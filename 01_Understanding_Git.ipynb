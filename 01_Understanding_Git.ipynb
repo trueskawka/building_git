{
 "cells": [
  {
   "cell_type": "markdown",
   "metadata": {},
   "source": [
    "# Getting to know Git\n",
    "Tools used:\n",
    "- `tree`\n",
    "- `wc`\n",
    "- `hexdump`"
   ]
  },
  {
   "cell_type": "markdown",
   "metadata": {},
   "source": [
    "## The `.git` directory"
   ]
  },
  {
   "cell_type": "code",
   "execution_count": 1,
   "metadata": {
    "scrolled": true
   },
   "outputs": [
    {
     "name": "stdout",
     "output_type": "stream",
     "text": [
      "Initialized empty Git repository in /Users/trueskawka/Documents/Alicja/Projects/programming/building_git/first-repo/.git/\n"
     ]
    }
   ],
   "source": [
    "git init first-repo"
   ]
  },
  {
   "cell_type": "code",
   "execution_count": 1,
   "metadata": {},
   "outputs": [],
   "source": [
    "cd first-repo/"
   ]
  },
  {
   "cell_type": "code",
   "execution_count": 3,
   "metadata": {},
   "outputs": [
    {
     "name": "stdout",
     "output_type": "stream",
     "text": [
      ".git/\n",
      "├── HEAD\n",
      "├── config\n",
      "├── description\n",
      "├── hooks\n",
      "│   ├── applypatch-msg.sample\n",
      "│   ├── commit-msg.sample\n",
      "│   ├── fsmonitor-watchman.sample\n",
      "│   ├── post-update.sample\n",
      "│   ├── pre-applypatch.sample\n",
      "│   ├── pre-commit.sample\n",
      "│   ├── pre-push.sample\n",
      "│   ├── pre-rebase.sample\n",
      "│   ├── pre-receive.sample\n",
      "│   ├── prepare-commit-msg.sample\n",
      "│   └── update.sample\n",
      "├── info\n",
      "│   └── exclude\n",
      "├── objects\n",
      "│   ├── info\n",
      "│   └── pack\n",
      "└── refs\n",
      "    ├── heads\n",
      "    └── tags\n",
      "\n",
      "8 directories, 15 files\n"
     ]
    }
   ],
   "source": [
    "# list the directory structure\n",
    "tree .git/"
   ]
  },
  {
   "cell_type": "code",
   "execution_count": 4,
   "metadata": {},
   "outputs": [
    {
     "name": "stdout",
     "output_type": "stream",
     "text": [
      "[core]\n",
      "\trepositoryformatversion = 0\n",
      "\tfilemode = true\n",
      "\tbare = false\n",
      "\tlogallrefupdates = true\n",
      "\tignorecase = true\n",
      "\tprecomposeunicode = true\n"
     ]
    }
   ],
   "source": [
    "# configuration for this repository\n",
    "cat .git/config"
   ]
  },
  {
   "cell_type": "markdown",
   "metadata": {},
   "source": [
    "- `repositoryformatversion = 0` - using version 0 of the repository format\n",
    "- `filemode = true` - store each file's mode (e.g. if it's executable)\n",
    "- `bare = false` - user will be editing working copy of files and creating commits\n",
    "- `logallrefupdates = true` - reflog is enabled\n",
    "- `ignorecase = true` and `precomposeunicode = true` - handle text encoding in OS X"
   ]
  },
  {
   "cell_type": "code",
   "execution_count": 9,
   "metadata": {},
   "outputs": [
    {
     "name": "stdout",
     "output_type": "stream",
     "text": [
      "Unnamed repository; edit this file 'description' to name the repository.\n"
     ]
    }
   ],
   "source": [
    "# name of the repository\n",
    "cat .git/description"
   ]
  },
  {
   "cell_type": "code",
   "execution_count": 10,
   "metadata": {},
   "outputs": [
    {
     "name": "stdout",
     "output_type": "stream",
     "text": [
      "ref: refs/heads/master\n"
     ]
    }
   ],
   "source": [
    "# reference to the current commit\n",
    "cat .git/HEAD"
   ]
  },
  {
   "cell_type": "code",
   "execution_count": 12,
   "metadata": {},
   "outputs": [
    {
     "name": "stdout",
     "output_type": "stream",
     "text": [
      "# git ls-files --others --exclude-from=.git/info/exclude\n",
      "# Lines that start with '#' are comments.\n",
      "# For a project mostly in C, the following would be a good set of\n",
      "# exclude patterns (uncomment them if you want to use them):\n",
      "# *.[oa]\n",
      "# *~\n"
     ]
    }
   ],
   "source": [
    "# .git/info contains metadata about the repository that don't fit into other main directories\n",
    "# .git/info/exclude files that should not be checked in (not part of the source tree)\n",
    "# as opposed to .gitignore which is tracked in Git\n",
    "cat .git/info/exclude"
   ]
  },
  {
   "cell_type": "code",
   "execution_count": 14,
   "metadata": {},
   "outputs": [
    {
     "name": "stdout",
     "output_type": "stream",
     "text": [
      "#!/bin/sh\n",
      "#\n",
      "# An example hook script to check the commit log message.\n",
      "# Called by \"git commit\" with one argument, the name of the file\n",
      "# that has the commit message.  The hook should exit with non-zero\n",
      "# status after issuing an appropriate message if it wants to stop the\n",
      "# commit.  The hook is allowed to edit the commit message file.\n",
      "#\n",
      "# To enable this hook, rename this file to \"commit-msg\".\n",
      "\n",
      "# Uncomment the below to add a Signed-off-by line to the message.\n",
      "# Doing this in a hook is a bad idea in general, but the prepare-commit-msg\n",
      "# hook is more suited to it.\n",
      "#\n",
      "# SOB=$(git var GIT_AUTHOR_IDENT | sed -n 's/^\\(.*>\\).*$/Signed-off-by: \\1/p')\n",
      "# grep -qs \"^$SOB\" \"$1\" || echo \"$SOB\" >> \"$1\"\n",
      "\n",
      "# This example catches duplicate Signed-off-by lines.\n",
      "\n",
      "test \"\" = \"$(grep '^Signed-off-by: ' \"$1\" |\n",
      "\t sort | uniq -c | sed -e '/^[ \t]*1[ \t]/d')\" || {\n",
      "\techo >&2 Duplicate Signed-off-by lines.\n",
      "\texit 1\n",
      "}\n"
     ]
    }
   ],
   "source": [
    "# scripts that Git will execute as part of core commands\n",
    "# e.g. before creating a commit .git/hooks/pre-commit\n",
    "# on init a lot of .sample files are created\n",
    "cat .git/hooks/commit-msg.sample"
   ]
  },
  {
   "cell_type": "code",
   "execution_count": 15,
   "metadata": {},
   "outputs": [],
   "source": [
    "# .git/objects is where all the content is stored\n",
    "# .git/objects/pack - storing in an optimized format (rolling up loose files in a pack)\n",
    "# .git/objects/info - store metadata"
   ]
  },
  {
   "cell_type": "code",
   "execution_count": 16,
   "metadata": {},
   "outputs": [],
   "source": [
    "# .git/refs stores pointers to .git/objects, e.g.:\n",
    "# .git/refs/heads - latest commit on each local branch\n",
    "# .git/refs/remotes - latest commit on each remote branch\n",
    "# .git/refs/tags - tags\n",
    "# .git/refs/stash - stashed objects reference"
   ]
  },
  {
   "cell_type": "markdown",
   "metadata": {},
   "source": [
    "## A simple commit"
   ]
  },
  {
   "cell_type": "code",
   "execution_count": 5,
   "metadata": {},
   "outputs": [
    {
     "name": "stdout",
     "output_type": "stream",
     "text": [
      "[master (root-commit) d9a710f] First commit.\n",
      " 2 files changed, 2 insertions(+)\n",
      " create mode 100644 hello.txt\n",
      " create mode 100644 world.txt\n"
     ]
    }
   ],
   "source": [
    "echo \"hello\" > hello.txt\n",
    "echo \"world\" > world.txt\n",
    "git add .\n",
    "git commit --message \"First commit.\""
   ]
  },
  {
   "cell_type": "markdown",
   "metadata": {},
   "source": [
    "Printing out some useful stuff on commit:\n",
    "- on `master` branch\n",
    "- made a `root-commit` (has no parent)\n",
    "- abbreviated commit hash `badbad5`\n",
    "- commit message `First commit.`\n",
    "- two new files with mode `100644`"
   ]
  },
  {
   "cell_type": "code",
   "execution_count": 18,
   "metadata": {},
   "outputs": [
    {
     "name": "stdout",
     "output_type": "stream",
     "text": [
      ".git\n",
      "├── COMMIT_EDITMSG\n",
      "├── HEAD\n",
      "├── config\n",
      "├── description\n",
      "├── hooks\n",
      "│   ├── applypatch-msg.sample\n",
      "│   ├── commit-msg.sample\n",
      "│   ├── fsmonitor-watchman.sample\n",
      "│   ├── post-update.sample\n",
      "│   ├── pre-applypatch.sample\n",
      "│   ├── pre-commit.sample\n",
      "│   ├── pre-push.sample\n",
      "│   ├── pre-rebase.sample\n",
      "│   ├── pre-receive.sample\n",
      "│   ├── prepare-commit-msg.sample\n",
      "│   └── update.sample\n",
      "├── index\n",
      "├── info\n",
      "│   └── exclude\n",
      "├── logs\n",
      "│   ├── HEAD\n",
      "│   └── refs\n",
      "│       └── heads\n",
      "│           └── master\n",
      "├── objects\n",
      "│   ├── 88\n",
      "│   │   └── e38705fdbd3608cddbe904b67c731f3234c45b\n",
      "│   ├── ba\n",
      "│   │   └── dbad5bb37eae9c37336ccb7b0a5529fbe95acb\n",
      "│   ├── cc\n",
      "│   │   └── 628ccd10742baea8241c5924df992b5c019f71\n",
      "│   ├── ce\n",
      "│   │   └── 013625030ba8dba906f756967f9e9ca394464a\n",
      "│   ├── info\n",
      "│   └── pack\n",
      "└── refs\n",
      "    ├── heads\n",
      "    │   └── master\n",
      "    └── tags\n",
      "\n",
      "15 directories, 24 files\n"
     ]
    }
   ],
   "source": [
    "tree .git"
   ]
  },
  {
   "cell_type": "code",
   "execution_count": 19,
   "metadata": {},
   "outputs": [
    {
     "name": "stdout",
     "output_type": "stream",
     "text": [
      "First commit.\n"
     ]
    }
   ],
   "source": [
    "# message given for the commit\n",
    "# if no --message is passed, opens this file in a text editor and saves\n",
    "# --message saves it in this file\n",
    "cat .git/COMMIT_EDITMSG"
   ]
  },
  {
   "cell_type": "code",
   "execution_count": 20,
   "metadata": {},
   "outputs": [
    {
     "name": "stdout",
     "output_type": "stream",
     "text": [
      "DIRC\u0000\u0000\u0000\u0002\u0000\u0000\u0000\u0002];��:�S�];��:�S�\u0001\u0000\u0000\u0004\u0001,?�\u0000\u0000��\u0000\u0000\u0001�\u0000\u0000\u0000\u0014\u0000\u0000\u0000\u0006�\u00016%\u0003\u000b",
      "�۩\u0006�V�����FJ\u0000\thello.txt\u0000];��\u0002ͻ�];��\u0002ͻ�\u0001\u0000\u0000\u0004\u0001,?�\u0000\u0000��\u0000\u0000\u0001�\u0000\u0000\u0000\u0014\u0000\u0000\u0000\u0006�b��\u0010t+��$\u001c",
      "Y$ߙ+\\\u0001�q\u0000\tworld.txt\u0000TREE\u0000\u0000\u0000\u0019\u00002 0\n",
      "��\u0005�����\u0004�|s\u001f24�[\u0000�FB���A*A��=�4�U\u0003b"
     ]
    }
   ],
   "source": [
    "# stores information about each file in current commit\n",
    "cat .git/index"
   ]
  },
  {
   "cell_type": "code",
   "execution_count": 22,
   "metadata": {},
   "outputs": [
    {
     "name": "stdout",
     "output_type": "stream",
     "text": [
      "0000000000000000000000000000000000000000 badbad5bb37eae9c37336ccb7b0a5529fbe95acb Alicja Raszkowska <malavarena@gmail.com> 1564186848 -0700\tcommit (initial): First commit.\n",
      "0000000000000000000000000000000000000000 badbad5bb37eae9c37336ccb7b0a5529fbe95acb Alicja Raszkowska <malavarena@gmail.com> 1564186848 -0700\tcommit (initial): First commit.\n"
     ]
    }
   ],
   "source": [
    "# log of every time a ref to a commit changes its value\n",
    "# used by reflog\n",
    "cat .git/logs/HEAD # symref to refs/heads/master\n",
    "cat .git/logs/refs/heads/master"
   ]
  },
  {
   "cell_type": "markdown",
   "metadata": {},
   "source": [
    "Recorded log event: `0000000000000000000000000000000000000000` (pointing at nothing) changed to commit hash `badbad5bb37eae9c37336ccb7b0a5529fbe95acb`."
   ]
  },
  {
   "cell_type": "code",
   "execution_count": 23,
   "metadata": {},
   "outputs": [
    {
     "name": "stdout",
     "output_type": "stream",
     "text": [
      "badbad5bb37eae9c37336ccb7b0a5529fbe95acb\n"
     ]
    }
   ],
   "source": [
    "# records which commit is at the tip of master\n",
    "cat .git/refs/heads/master"
   ]
  },
  {
   "cell_type": "markdown",
   "metadata": {},
   "source": [
    "## Storing objects"
   ]
  },
  {
   "cell_type": "code",
   "execution_count": 25,
   "metadata": {},
   "outputs": [
    {
     "name": "stdout",
     "output_type": "stream",
     "text": [
      "\u001b[33mcommit badbad5bb37eae9c37336ccb7b0a5529fbe95acb\u001b[m\u001b[33m (\u001b[m\u001b[1;36mHEAD -> \u001b[m\u001b[1;32mmaster\u001b[m\u001b[33m)\u001b[m\n",
      "Author: Alicja Raszkowska <malavarena@gmail.com>\n",
      "Date:   Fri Jul 26 17:20:48 2019 -0700\n",
      "\n",
      "    First commit.\n",
      "\n",
      "\u001b[1mdiff --git a/hello.txt b/hello.txt\u001b[m\n",
      "\u001b[1mnew file mode 100644\u001b[m\n",
      "\u001b[1mindex 0000000..ce01362\u001b[m\n",
      "\u001b[1m--- /dev/null\u001b[m\n",
      "\u001b[1m+++ b/hello.txt\u001b[m\n",
      "\u001b[36m@@ -0,0 +1 @@\u001b[m\n",
      "\u001b[32m+\u001b[m\u001b[32mhello\u001b[m\n",
      "\u001b[1mdiff --git a/world.txt b/world.txt\u001b[m\n",
      "\u001b[1mnew file mode 100644\u001b[m\n",
      "\u001b[1mindex 0000000..cc628cc\u001b[m\n",
      "\u001b[1m--- /dev/null\u001b[m\n",
      "\u001b[1m+++ b/world.txt\u001b[m\n",
      "\u001b[36m@@ -0,0 +1 @@\u001b[m\n",
      "\u001b[32m+\u001b[m\u001b[32mworld\u001b[m\n"
     ]
    }
   ],
   "source": [
    "# print information about the HEAD commit\n",
    "git show"
   ]
  },
  {
   "cell_type": "markdown",
   "metadata": {},
   "source": [
    "One of the files in .git/objects is `ba/dbad5bb37eae9c37336ccb7b0a5529fbe95acb` - ID of the commit with the first two chars being the directory name."
   ]
  },
  {
   "cell_type": "code",
   "execution_count": 26,
   "metadata": {},
   "outputs": [
    {
     "name": "stdout",
     "output_type": "stream",
     "text": [
      "tree 88e38705fdbd3608cddbe904b67c731f3234c45b\n",
      "author Alicja Raszkowska <malavarena@gmail.com> 1564186848 -0700\n",
      "committer Alicja Raszkowska <malavarena@gmail.com> 1564186848 -0700\n",
      "\n",
      "First commit.\n"
     ]
    }
   ],
   "source": [
    "# print commit file from the database with -p pretty print\n",
    "git cat-file -p badbad5bb37eae9c37336ccb7b0a5529fbe95acb"
   ]
  },
  {
   "cell_type": "markdown",
   "metadata": {},
   "source": [
    "Commit representation:\n",
    "- first line `tree` followed by tree ID (commits point to trees)\n",
    "- author and commiter lines, with timestamps\n",
    "- blank line\n",
    "- commit message\n",
    "\n",
    "The tree ID is not dependent on commiter or timestamps, just the commit content, so it should be the same for identical file contents."
   ]
  },
  {
   "cell_type": "code",
   "execution_count": 28,
   "metadata": {},
   "outputs": [
    {
     "name": "stdout",
     "output_type": "stream",
     "text": [
      "100644 blob ce013625030ba8dba906f756967f9e9ca394464a\thello.txt\n",
      "100644 blob cc628ccd10742baea8241c5924df992b5c019f71\tworld.txt\n"
     ]
    }
   ],
   "source": [
    "# let's look at the tree\n",
    "git cat-file -p 88e38705fdbd3608cddbe904b67c731f3234c45b"
   ]
  },
  {
   "cell_type": "markdown",
   "metadata": {},
   "source": [
    "A tree file has:\n",
    "- one tree for every directory in the project (including root)\n",
    "- that tree lists the contents - either trees (subdirectory) or blobs (files)\n",
    "\n",
    "Each entry lists:\n",
    "- mode - numeric representation of the type and permissions\n",
    "- type - blob or tree\n",
    "- ID\n",
    "- filename"
   ]
  },
  {
   "cell_type": "code",
   "execution_count": 30,
   "metadata": {},
   "outputs": [
    {
     "name": "stdout",
     "output_type": "stream",
     "text": [
      "hello\n"
     ]
    }
   ],
   "source": [
    "# let's look at a blob\n",
    "# storing just the content\n",
    "git cat-file -p ce013625030ba8dba906f756967f9e9ca394464a"
   ]
  },
  {
   "cell_type": "code",
   "execution_count": 31,
   "metadata": {},
   "outputs": [
    {
     "name": "stdout",
     "output_type": "stream",
     "text": [
      "world\n"
     ]
    }
   ],
   "source": [
    "git cat-file -p cc628ccd10742baea8241c5924df992b5c019f71"
   ]
  },
  {
   "cell_type": "markdown",
   "metadata": {},
   "source": [
    "### Blobs on disk"
   ]
  },
  {
   "cell_type": "code",
   "execution_count": 33,
   "metadata": {},
   "outputs": [
    {
     "name": "stdout",
     "output_type": "stream",
     "text": [
      "x\u0001K��OR0c�H����\u0002\u0000\u001d",
      "�\u0004\u0014"
     ]
    }
   ],
   "source": [
    "# this file is compressed with DEFLATE algorithm, used in zlib\n",
    "cat .git/objects/ce/013625030ba8dba906f756967f9e9ca394464a"
   ]
  },
  {
   "cell_type": "code",
   "execution_count": 36,
   "metadata": {},
   "outputs": [],
   "source": [
    "# decompress and print data\n",
    "# -r zlib - require zlib\n",
    "# -e - inline script\n",
    "alias inflate='ruby -r zlib -e \"STDOUT.write Zlib::Inflate.inflate(STDIN.read)\"'"
   ]
  },
  {
   "cell_type": "code",
   "execution_count": 37,
   "metadata": {},
   "outputs": [
    {
     "name": "stdout",
     "output_type": "stream",
     "text": [
      "blob 6\u0000hello\n"
     ]
    }
   ],
   "source": [
    "cat .git/objects/ce/013625030ba8dba906f756967f9e9ca394464a | inflate"
   ]
  },
  {
   "cell_type": "code",
   "execution_count": 38,
   "metadata": {},
   "outputs": [
    {
     "name": "stdout",
     "output_type": "stream",
     "text": [
      "      13\n"
     ]
    }
   ],
   "source": [
    "# \"blob 6\" is probably a length header\n",
    "# \"blob 6\" - 6 bytes\n",
    "# \"hello\\n\" - 6 bytes\n",
    "# where is one extra byte coming from?\n",
    "cat .git/objects/ce/013625030ba8dba906f756967f9e9ca394464a | inflate | wc -c"
   ]
  },
  {
   "cell_type": "code",
   "execution_count": 39,
   "metadata": {},
   "outputs": [
    {
     "name": "stdout",
     "output_type": "stream",
     "text": [
      "00000000  62 6c 6f 62 20 36 00 68  65 6c 6c 6f 0a           |blob 6.hello.|\n",
      "0000000d\n"
     ]
    }
   ],
   "source": [
    "# print hexadecimal representation of the bytes in a file alongside textual\n",
    "cat .git/objects/ce/013625030ba8dba906f756967f9e9ca394464a | inflate | hexdump -C"
   ]
  },
  {
   "cell_type": "markdown",
   "metadata": {},
   "source": [
    "All files are just a list of bytes, `hexdump` shows numeric values of those bytes in hexadecimal, in rows of 16 values each. \n",
    "\n",
    "Leftmost column shows the total offset into the file each row begins at (in hexadecimal). \n",
    "\n",
    "Value at the bottom shows total size, e.g. `0000000d` is 13 bytes.\n",
    "\n",
    "Te column on the right between | characters sows the ASCII character for each column. If it's not printable in ASCII, then hexdump prints . in it's place (to make it easier to count by eye).\n",
    "\n",
    "In this file:\n",
    "- `62 6c 6f 62` - `blob`\n",
    "- `20` - space\n",
    "- `36`- digit `6`\n",
    "- `00` - null byte\n",
    "- `68  65 6c 6c 6f 0a` - `hello\\n`\n",
    "\n",
    "Git stores blobs by prepending them with `blob <length><null byte><content>` and compressed with `zlib`."
   ]
  },
  {
   "cell_type": "markdown",
   "metadata": {},
   "source": [
    "```\n",
    "Decimal    Hex    Binary\n",
    "      0      0      0000\n",
    "      1      1      0001\n",
    "      2      2      0010\n",
    "      3      3      0011\n",
    "      4      4      0100\n",
    "      5      5      0101\n",
    "      6      6      0110\n",
    "      7      7      0111\n",
    "      8      8      1000\n",
    "      9      9      1001\n",
    "     10      a      1010\n",
    "     11      b      1011\n",
    "     12      c      1100\n",
    "     13      d      1101\n",
    "     14      e      1110\n",
    "     15      f      1111\n",
    "```"
   ]
  },
  {
   "cell_type": "markdown",
   "metadata": {},
   "source": [
    "### Trees on disk"
   ]
  },
  {
   "cell_type": "code",
   "execution_count": 40,
   "metadata": {},
   "outputs": [
    {
     "name": "stdout",
     "output_type": "stream",
     "text": [
      "tree 74\u0000100644 hello.txt\u0000�\u00016%\u0003\u000b",
      "�۩\u0006�V�����FJ100644 world.txt\u0000�b��\u0010t+��$\u001c",
      "Y$ߙ+\\\u0001�q"
     ]
    }
   ],
   "source": [
    "cat .git/objects/88/e38705fdbd3608cddbe904b67c731f3234c45b | inflate"
   ]
  },
  {
   "cell_type": "code",
   "execution_count": 41,
   "metadata": {},
   "outputs": [
    {
     "name": "stdout",
     "output_type": "stream",
     "text": [
      "00000000  74 72 65 65 20 37 34 00  31 30 30 36 34 34 20 68  |tree 74.100644 h|\n",
      "00000010  65 6c 6c 6f 2e 74 78 74  00 ce 01 36 25 03 0b a8  |ello.txt...6%...|\n",
      "00000020  db a9 06 f7 56 96 7f 9e  9c a3 94 46 4a 31 30 30  |....V......FJ100|\n",
      "00000030  36 34 34 20 77 6f 72 6c  64 2e 74 78 74 00 cc 62  |644 world.txt..b|\n",
      "00000040  8c cd 10 74 2b ae a8 24  1c 59 24 df 99 2b 5c 01  |...t+..$.Y$..+\\.|\n",
      "00000050  9f 71                                             |.q|\n",
      "00000052\n"
     ]
    }
   ],
   "source": [
    "cat .git/objects/88/e38705fdbd3608cddbe904b67c731f3234c45b | inflate | hexdump -C"
   ]
  },
  {
   "cell_type": "markdown",
   "metadata": {},
   "source": [
    "Structure:\n",
    "- `74 72 65 65` - `tree`, type of the object\n",
    "- `20` - space\n",
    "- `37 34` - size (`74`)\n",
    "- `00` - null byte (end of length)\n",
    "-  `31 30 30 36 34 34` - `100644`, file mode\n",
    "- `20` - space\n",
    "- `68 65 6c 6c 6f 2e 74 78 74` - `hello.txt`, file name\n",
    "- `00` - null byte (end of file name)\n",
    "- `ce 01 36 25 03 0b a8 db a9 06 f7 56 96 7f 9e 9c a3 94 46 4a` - object ID\n",
    "- `31 30 30 36 34 34` - `100644`, file mode\n",
    "- `20` - space\n",
    "- `77 6f 72 6c  64 2e 74 78 74` - `world.txt`, file name\n",
    "- `00` - null byte (end of file name)\n",
    "- `cc 62 8c cd 10 74 2b ae a8 24 1c 59 24 df 99 2b 5c 01 9f 71` - object ID"
   ]
  },
  {
   "cell_type": "markdown",
   "metadata": {},
   "source": [
    "Why are object IDs 40 chars?\n",
    "\n",
    "- object IDs are hexadecimal representations of numbers\n",
    "- each digit represents four bits in binary\n",
    "- in a 40-digit object ID each digit stands for four bits of a 160-bit number\n",
    "- it's being stored in binary as twenty blocks of eight bits (20 bytes)"
   ]
  },
  {
   "cell_type": "markdown",
   "metadata": {},
   "source": [
    "### Commits on disk"
   ]
  },
  {
   "cell_type": "code",
   "execution_count": 44,
   "metadata": {
    "scrolled": true
   },
   "outputs": [
    {
     "name": "stdout",
     "output_type": "stream",
     "text": [
      "commit 194\u0000tree 88e38705fdbd3608cddbe904b67c731f3234c45b\n",
      "author Alicja Raszkowska <malavarena@gmail.com> 1564186848 -0700\n",
      "committer Alicja Raszkowska <malavarena@gmail.com> 1564186848 -0700\n",
      "\n",
      "First commit.\n"
     ]
    }
   ],
   "source": [
    "cat .git/objects/ba/dbad5bb37eae9c37336ccb7b0a5529fbe95acb | inflate"
   ]
  },
  {
   "cell_type": "code",
   "execution_count": 45,
   "metadata": {},
   "outputs": [
    {
     "name": "stdout",
     "output_type": "stream",
     "text": [
      "00000000  63 6f 6d 6d 69 74 20 31  39 34 00 74 72 65 65 20  |commit 194.tree |\n",
      "00000010  38 38 65 33 38 37 30 35  66 64 62 64 33 36 30 38  |88e38705fdbd3608|\n",
      "00000020  63 64 64 62 65 39 30 34  62 36 37 63 37 33 31 66  |cddbe904b67c731f|\n",
      "00000030  33 32 33 34 63 34 35 62  0a 61 75 74 68 6f 72 20  |3234c45b.author |\n",
      "00000040  41 6c 69 63 6a 61 20 52  61 73 7a 6b 6f 77 73 6b  |Alicja Raszkowsk|\n",
      "00000050  61 20 3c 6d 61 6c 61 76  61 72 65 6e 61 40 67 6d  |a <malavarena@gm|\n",
      "00000060  61 69 6c 2e 63 6f 6d 3e  20 31 35 36 34 31 38 36  |ail.com> 1564186|\n",
      "00000070  38 34 38 20 2d 30 37 30  30 0a 63 6f 6d 6d 69 74  |848 -0700.commit|\n",
      "00000080  74 65 72 20 41 6c 69 63  6a 61 20 52 61 73 7a 6b  |ter Alicja Raszk|\n",
      "00000090  6f 77 73 6b 61 20 3c 6d  61 6c 61 76 61 72 65 6e  |owska <malavaren|\n",
      "000000a0  61 40 67 6d 61 69 6c 2e  63 6f 6d 3e 20 31 35 36  |a@gmail.com> 156|\n",
      "000000b0  34 31 38 36 38 34 38 20  2d 30 37 30 30 0a 0a 46  |4186848 -0700..F|\n",
      "000000c0  69 72 73 74 20 63 6f 6d  6d 69 74 2e 0a           |irst commit..|\n",
      "000000cd\n"
     ]
    }
   ],
   "source": [
    "cat .git/objects/ba/dbad5bb37eae9c37336ccb7b0a5529fbe95acb | inflate | hexdump -C"
   ]
  },
  {
   "cell_type": "markdown",
   "metadata": {},
   "source": [
    "Structure:\n",
    "- `commit <commit-length>`\n",
    "- `00` - null byte after lenght\n",
    "- `tree` - all commits refer to a single tree representing the state of files at that point in history (commits are pointers to complete snapshot of state of the project, not diffs)\n",
    "- `author`\n",
    "- `committer`\n",
    "- blank line\n",
    "- commit message"
   ]
  },
  {
   "cell_type": "markdown",
   "metadata": {},
   "source": [
    "### Computing object IDs"
   ]
  },
  {
   "cell_type": "code",
   "execution_count": 60,
   "metadata": {},
   "outputs": [],
   "source": [
    "echo '\n",
    "require \"digest/sha1\"\n",
    "require \"zlib\"\n",
    "\n",
    "string = \"hello\\n\"\n",
    "puts \"raw:\"\n",
    "puts Digest::SHA1.hexdigest(string)\n",
    "\n",
    "blob = \"blob #{ string.bytesize }\\0#{ string }\" \n",
    "puts \"blob:\"\n",
    "puts Digest::SHA1.hexdigest(blob)\n",
    "\n",
    "zipped = Zlib::Deflate.deflate(blob)\n",
    "puts \"zipped:\"\n",
    "puts Digest::SHA1.hexdigest(zipped)\n",
    "' >> sha.rb"
   ]
  },
  {
   "cell_type": "code",
   "execution_count": 61,
   "metadata": {},
   "outputs": [
    {
     "name": "stdout",
     "output_type": "stream",
     "text": [
      "raw:\n",
      "f572d396fae9206628714fb2ce00f72e94f2258f\n",
      "blob:\n",
      "ce013625030ba8dba906f756967f9e9ca394464a\n",
      "zipped:\n",
      "3a3cca74450ee8a0245e7c564ac9e68f8233b1e8\n"
     ]
    }
   ],
   "source": [
    "ruby sha.rb"
   ]
  },
  {
   "cell_type": "markdown",
   "metadata": {},
   "source": [
    "The ID is made from:\n",
    "- file content\n",
    "- prepended by bytesize lenght\n",
    "- prepended by `blob`\n",
    "- computed SHA-1\n",
    "\n",
    "This helps speed up comparisons - if two objects have te same ID, then Git treats them as having the same content (within the limits of SHA-1). It reduces the amount of work required when comparing commits on large projects.\n",
    "\n",
    "If an object ID appears in one repository, then it and everything it refers to does not need to be re-downloaded. You then only need to download missing objects.\n",
    "\n",
    "This also explains why objects are being hashed before compression - compression can have different settings resulting in different hashes. This would negate being able to decide if two objects have the same content based on the hash itself."
   ]
  },
  {
   "cell_type": "markdown",
   "metadata": {},
   "source": [
    "### Bear necessities"
   ]
  },
  {
   "cell_type": "markdown",
   "metadata": {},
   "source": [
    "Minimum viable Git repository:\n",
    "\n",
    "```\n",
    ".git\n",
    " ├── HEAD\n",
    " ├── objects\n",
    " │   ├── 88\n",
    " │   │   └── e38705fdbd3608cddbe904b67c731f3234c45b\n",
    " │   ├── ba\n",
    " │   │   └── dbad5bb37eae9c37336ccb7b0a5529fbe95acb\n",
    " │   ├── cc\n",
    " │   │   └── 628ccd10742baea8241c5924df992b5c019f71\n",
    " │   ├── ce\n",
    " │   │   └── 013625030ba8dba906f756967f9e9ca394464a\n",
    " └── refs\n",
    "     └── heads\n",
    "         └── master\n",
    "```"
   ]
  },
  {
   "cell_type": "markdown",
   "metadata": {},
   "source": [
    "If we can write some code that:\n",
    "- stores itself as a commit, a tree and some blobs\n",
    "- writes the ID of that commit to HEAD\n",
    "\n",
    "then we’re up and running."
   ]
  },
  {
   "cell_type": "markdown",
   "metadata": {},
   "source": [
    "## The `parent` field"
   ]
  },
  {
   "cell_type": "code",
   "execution_count": 6,
   "metadata": {},
   "outputs": [
    {
     "name": "stdout",
     "output_type": "stream",
     "text": [
      "[master f826d50] Second commit.\n",
      " 1 file changed, 1 insertion(+), 1 deletion(-)\n"
     ]
    }
   ],
   "source": [
    "echo \"second\" > hello.txt\n",
    "git add .\n",
    "git commit --m \"Second commit.\""
   ]
  },
  {
   "cell_type": "code",
   "execution_count": 7,
   "metadata": {},
   "outputs": [
    {
     "name": "stdout",
     "output_type": "stream",
     "text": [
      "f826d50b3070fbd98c329cfeab412f0c8fd9b60a\n"
     ]
    }
   ],
   "source": [
    "cat .git/refs/heads/master"
   ]
  },
  {
   "cell_type": "code",
   "execution_count": 8,
   "metadata": {},
   "outputs": [
    {
     "name": "stdout",
     "output_type": "stream",
     "text": [
      "tree 040c6f3e807f0d433870584bc91e06b6046b955d\n",
      "parent d9a710f4b3b5d45de8e8b73bc614effda7706bb6\n",
      "author Alicja Raszkowska <malavarena@gmail.com> 1564251489 -0700\n",
      "committer Alicja Raszkowska <malavarena@gmail.com> 1564251489 -0700\n",
      "\n",
      "Second commit.\n"
     ]
    }
   ],
   "source": [
    "git cat-file -p f826d50b3070fbd98c329cfeab412f0c8fd9b60a"
   ]
  },
  {
   "cell_type": "code",
   "execution_count": 9,
   "metadata": {},
   "outputs": [
    {
     "name": "stdout",
     "output_type": "stream",
     "text": [
      "tree 88e38705fdbd3608cddbe904b67c731f3234c45b\n",
      "author Alicja Raszkowska <malavarena@gmail.com> 1564251438 -0700\n",
      "committer Alicja Raszkowska <malavarena@gmail.com> 1564251438 -0700\n",
      "\n",
      "First commit.\n"
     ]
    }
   ],
   "source": [
    "git cat-file -p d9a710f4b3b5d45de8e8b73bc614effda7706bb6"
   ]
  },
  {
   "cell_type": "code",
   "execution_count": 10,
   "metadata": {},
   "outputs": [
    {
     "name": "stdout",
     "output_type": "stream",
     "text": [
      "100644 blob ce013625030ba8dba906f756967f9e9ca394464a\thello.txt\n",
      "100644 blob cc628ccd10742baea8241c5924df992b5c019f71\tworld.txt\n"
     ]
    }
   ],
   "source": [
    "git cat-file -p 88e38705fdbd3608cddbe904b67c731f3234c45b"
   ]
  },
  {
   "cell_type": "code",
   "execution_count": 12,
   "metadata": {},
   "outputs": [
    {
     "name": "stdout",
     "output_type": "stream",
     "text": [
      "100644 blob e019be006cf33489e2d0177a3837a2384eddebc5\thello.txt\n",
      "100644 blob cc628ccd10742baea8241c5924df992b5c019f71\tworld.txt\n"
     ]
    }
   ],
   "source": [
    "# still references the same blob for the unchanged file\n",
    "git cat-file -p 040c6f3e807f0d433870584bc91e06b6046b955d"
   ]
  },
  {
   "cell_type": "code",
   "execution_count": 13,
   "metadata": {},
   "outputs": [
    {
     "name": "stdout",
     "output_type": "stream",
     "text": [
      "second\n"
     ]
    }
   ],
   "source": [
    "git cat-file -p e019be006cf33489e2d0177a3837a2384eddebc5"
   ]
  },
  {
   "cell_type": "markdown",
   "metadata": {},
   "source": [
    "Git is storing new los when files have their content changed, rather than storing a complete copy of the project on every commit. Files with the same content will point to the same blob. Most of the contents of the tree can be reused."
   ]
  },
  {
   "cell_type": "markdown",
   "metadata": {},
   "source": [
    "## Executable files"
   ]
  },
  {
   "cell_type": "code",
   "execution_count": 14,
   "metadata": {},
   "outputs": [
    {
     "name": "stdout",
     "output_type": "stream",
     "text": [
      "[master 2f38c70] Third commit.\n",
      " 1 file changed, 0 insertions(+), 0 deletions(-)\n",
      " create mode 100755 kitten.txt\n"
     ]
    }
   ],
   "source": [
    "touch kitten.txt\n",
    "chmod +x kitten.txt\n",
    "git add .\n",
    "git commit --m \"Third commit.\""
   ]
  },
  {
   "cell_type": "code",
   "execution_count": 15,
   "metadata": {},
   "outputs": [
    {
     "name": "stdout",
     "output_type": "stream",
     "text": [
      "100644 blob e019be006cf33489e2d0177a3837a2384eddebc5\thello.txt\n",
      "100755 blob e69de29bb2d1d6434b8b29ae775ad8c2e48c5391\tkitten.txt\n",
      "100644 blob cc628ccd10742baea8241c5924df992b5c019f71\tworld.txt\n"
     ]
    }
   ],
   "source": [
    "# HEAD^{tree} - get the tree of the HEAD commit\n",
    "git cat-file -p HEAD^{tree}"
   ]
  },
  {
   "cell_type": "code",
   "execution_count": 7,
   "metadata": {},
   "outputs": [
    {
     "name": "stdout",
     "output_type": "stream",
     "text": [
      "16777220 19692280 -rwxr-xr-x 1 trueskawka staff 0 0 \"Jul 27 12:06:03 2019\" \"Jul 27 12:06:03 2019\" \"Jul 27 12:06:03 2019\" \"Jul 27 12:06:03 2019\" 4194304 0 0 kitten.txt\n"
     ]
    }
   ],
   "source": [
    "stat kitten.txt"
   ]
  },
  {
   "cell_type": "code",
   "execution_count": 12,
   "metadata": {},
   "outputs": [
    {
     "name": "stdout",
     "output_type": "stream",
     "text": [
      "100755\n"
     ]
    }
   ],
   "source": [
    "stat -f \"%p\" kitten.txt"
   ]
  },
  {
   "cell_type": "code",
   "execution_count": 13,
   "metadata": {},
   "outputs": [
    {
     "name": "stdout",
     "output_type": "stream",
     "text": [
      "100644\n"
     ]
    }
   ],
   "source": [
    "stat -f \"%p\" hello.txt"
   ]
  },
  {
   "cell_type": "code",
   "execution_count": 14,
   "metadata": {},
   "outputs": [
    {
     "name": "stdout",
     "output_type": "stream",
     "text": [
      "[master ff048bd] Fourth commit.\n",
      " 1 file changed, 0 insertions(+), 0 deletions(-)\n",
      " create mode 100644 other.txt\n"
     ]
    }
   ],
   "source": [
    "touch other.txt\n",
    "chmod 655 other.txt\n",
    "git add .\n",
    "git commit --m \"Fourth commit.\""
   ]
  },
  {
   "cell_type": "code",
   "execution_count": 15,
   "metadata": {
    "scrolled": true
   },
   "outputs": [
    {
     "name": "stdout",
     "output_type": "stream",
     "text": [
      "100644 blob e019be006cf33489e2d0177a3837a2384eddebc5\thello.txt\n",
      "100755 blob e69de29bb2d1d6434b8b29ae775ad8c2e48c5391\tkitten.txt\n",
      "100644 blob e69de29bb2d1d6434b8b29ae775ad8c2e48c5391\tother.txt\n",
      "100644 blob cc628ccd10742baea8241c5924df992b5c019f71\tworld.txt\n"
     ]
    }
   ],
   "source": [
    "git cat-file -p HEAD^{tree}"
   ]
  },
  {
   "cell_type": "markdown",
   "metadata": {},
   "source": [
    "## Recursive trees"
   ]
  },
  {
   "cell_type": "code",
   "execution_count": 16,
   "metadata": {},
   "outputs": [
    {
     "name": "stdout",
     "output_type": "stream",
     "text": [
      "[master fa4ca11] Fifth commit.\n",
      " 1 file changed, 0 insertions(+), 0 deletions(-)\n",
      " create mode 100644 a/b/c.txt\n"
     ]
    }
   ],
   "source": [
    "mkdir -p a/b\n",
    "touch a/b/c.txt\n",
    "git add .\n",
    "git commit --m \"Fifth commit.\""
   ]
  },
  {
   "cell_type": "code",
   "execution_count": 17,
   "metadata": {},
   "outputs": [
    {
     "name": "stdout",
     "output_type": "stream",
     "text": [
      "040000 tree c4a644afb090a8303bdb28306a2f803017551f25\ta\n",
      "100644 blob e019be006cf33489e2d0177a3837a2384eddebc5\thello.txt\n",
      "100755 blob e69de29bb2d1d6434b8b29ae775ad8c2e48c5391\tkitten.txt\n",
      "100644 blob e69de29bb2d1d6434b8b29ae775ad8c2e48c5391\tother.txt\n",
      "100644 blob cc628ccd10742baea8241c5924df992b5c019f71\tworld.txt\n"
     ]
    }
   ],
   "source": [
    "git cat-file -p HEAD^{tree}"
   ]
  },
  {
   "cell_type": "code",
   "execution_count": 18,
   "metadata": {},
   "outputs": [
    {
     "name": "stdout",
     "output_type": "stream",
     "text": [
      "\u001b[33mcommit fa4ca11c7107dd417139c7ca9ba6cecca6d1a4f6\u001b[m\u001b[33m (\u001b[m\u001b[1;36mHEAD -> \u001b[m\u001b[1;32mmaster\u001b[m\u001b[33m)\u001b[m\n",
      "Author: Alicja Raszkowska <malavarena@gmail.com>\n",
      "Date:   Sat Jul 27 12:40:49 2019 -0700\n",
      "\n",
      "    Fifth commit.\n",
      "\n",
      "\u001b[1mdiff --git a/a/b/c.txt b/a/b/c.txt\u001b[m\n",
      "\u001b[1mnew file mode 100644\u001b[m\n",
      "\u001b[1mindex 0000000..e69de29\u001b[m\n"
     ]
    }
   ],
   "source": [
    "git show"
   ]
  },
  {
   "cell_type": "code",
   "execution_count": 19,
   "metadata": {},
   "outputs": [
    {
     "name": "stdout",
     "output_type": "stream",
     "text": [
      "00000000  63 6f 6d 6d 69 74 20 32  34 32 00 74 72 65 65 20  |commit 242.tree |\n",
      "00000010  36 35 61 35 61 32 64 36  62 39 31 66 35 35 66 66  |65a5a2d6b91f55ff|\n",
      "00000020  61 34 65 35 65 37 30 37  61 36 34 34 34 36 62 64  |a4e5e707a64446bd|\n",
      "00000030  31 64 38 33 65 63 35 38  0a 70 61 72 65 6e 74 20  |1d83ec58.parent |\n",
      "00000040  66 66 30 34 38 62 64 34  37 64 37 64 38 34 65 66  |ff048bd47d7d84ef|\n",
      "00000050  30 62 36 64 37 39 65 62  36 62 38 62 37 36 65 31  |0b6d79eb6b8b76e1|\n",
      "00000060  64 31 39 31 34 64 63 64  0a 61 75 74 68 6f 72 20  |d1914dcd.author |\n",
      "00000070  41 6c 69 63 6a 61 20 52  61 73 7a 6b 6f 77 73 6b  |Alicja Raszkowsk|\n",
      "00000080  61 20 3c 6d 61 6c 61 76  61 72 65 6e 61 40 67 6d  |a <malavarena@gm|\n",
      "00000090  61 69 6c 2e 63 6f 6d 3e  20 31 35 36 34 32 35 36  |ail.com> 1564256|\n",
      "000000a0  34 34 39 20 2d 30 37 30  30 0a 63 6f 6d 6d 69 74  |449 -0700.commit|\n",
      "000000b0  74 65 72 20 41 6c 69 63  6a 61 20 52 61 73 7a 6b  |ter Alicja Raszk|\n",
      "000000c0  6f 77 73 6b 61 20 3c 6d  61 6c 61 76 61 72 65 6e  |owska <malavaren|\n",
      "000000d0  61 40 67 6d 61 69 6c 2e  63 6f 6d 3e 20 31 35 36  |a@gmail.com> 156|\n",
      "000000e0  34 32 35 36 34 34 39 20  2d 30 37 30 30 0a 0a 46  |4256449 -0700..F|\n",
      "000000f0  69 66 74 68 20 63 6f 6d  6d 69 74 2e 0a           |ifth commit..|\n",
      "000000fd\n"
     ]
    }
   ],
   "source": [
    "cat .git/objects/fa/4ca11c7107dd417139c7ca9ba6cecca6d1a4f6 | inflate | hexdump -C"
   ]
  },
  {
   "cell_type": "code",
   "execution_count": 20,
   "metadata": {},
   "outputs": [
    {
     "name": "stdout",
     "output_type": "stream",
     "text": [
      "00000000  74 72 65 65 20 32 38 00  34 30 30 30 30 20 62 00  |tree 28.40000 b.|\n",
      "00000010  17 21 a7 a9 1e 87 f5 41  3c 84 2a 9c 5c e7 3f 67  |.!.....A<.*.\\.?g|\n",
      "00000020  44 59 e9 2b                                       |DY.+|\n",
      "00000024\n"
     ]
    }
   ],
   "source": [
    "cat .git/objects/c4/a644afb090a8303bdb28306a2f803017551f25| inflate | hexdump -C"
   ]
  },
  {
   "cell_type": "code",
   "execution_count": 21,
   "metadata": {},
   "outputs": [
    {
     "name": "stdout",
     "output_type": "stream",
     "text": [
      "40755\n"
     ]
    }
   ],
   "source": [
    "stat -f \"%p\" a/"
   ]
  },
  {
   "cell_type": "code",
   "execution_count": 22,
   "metadata": {},
   "outputs": [
    {
     "name": "stdout",
     "output_type": "stream",
     "text": [
      "040000 tree 1721a7a91e87f5413c842a9c5ce73f674459e92b\tb\n"
     ]
    }
   ],
   "source": [
    "git cat-file -p c4a644afb090a8303bdb28306a2f803017551f25"
   ]
  },
  {
   "cell_type": "code",
   "execution_count": 23,
   "metadata": {},
   "outputs": [
    {
     "name": "stdout",
     "output_type": "stream",
     "text": [
      "100644 blob e69de29bb2d1d6434b8b29ae775ad8c2e48c5391\tc.txt\n"
     ]
    }
   ],
   "source": [
    "git cat-file -p 1721a7a91e87f5413c842a9c5ce73f674459e92b"
   ]
  },
  {
   "cell_type": "markdown",
   "metadata": {},
   "source": [
    "## The `add` command"
   ]
  },
  {
   "cell_type": "code",
   "execution_count": 2,
   "metadata": {},
   "outputs": [
    {
     "name": "stdout",
     "output_type": "stream",
     "text": [
      "On branch master\n",
      "Untracked files:\n",
      "  (use \"git add <file>...\" to include in what will be committed)\n",
      "\n",
      "\t\u001b[31mfile.txt\u001b[m\n",
      "\n",
      "nothing added to commit but untracked files present (use \"git add\" to track)\n"
     ]
    }
   ],
   "source": [
    "touch file.txt\n",
    "git status"
   ]
  },
  {
   "cell_type": "code",
   "execution_count": 3,
   "metadata": {},
   "outputs": [
    {
     "name": "stdout",
     "output_type": "stream",
     "text": [
      "On branch master\n",
      "Changes to be committed:\n",
      "  (use \"git reset HEAD <file>...\" to unstage)\n",
      "\n",
      "\t\u001b[32mnew file:   file.txt\u001b[m\n",
      "\n"
     ]
    }
   ],
   "source": [
    "git add file.txt\n",
    "git status"
   ]
  },
  {
   "cell_type": "code",
   "execution_count": 4,
   "metadata": {},
   "outputs": [
    {
     "name": "stdout",
     "output_type": "stream",
     "text": [
      "On branch master\n",
      "Changes to be committed:\n",
      "  (use \"git reset HEAD <file>...\" to unstage)\n",
      "\n",
      "\t\u001b[32mnew file:   file.txt\u001b[m\n",
      "\n",
      "Changes not staged for commit:\n",
      "  (use \"git add <file>...\" to update what will be committed)\n",
      "  (use \"git checkout -- <file>...\" to discard changes in working directory)\n",
      "\n",
      "\t\u001b[31mmodified:   file.txt\u001b[m\n",
      "\n"
     ]
    }
   ],
   "source": [
    "echo \"new content\" > file.txt\n",
    "git status"
   ]
  },
  {
   "cell_type": "code",
   "execution_count": 5,
   "metadata": {},
   "outputs": [
    {
     "name": "stdout",
     "output_type": "stream",
     "text": [
      "00000000  44 49 52 43 00 00 00 02  00 00 00 06 5d 3c a8 c1  |DIRC........]<..|\n",
      "00000010  1c 66 22 56 5d 3c a8 c1  1c 66 22 56 01 00 00 04  |.f\"V]<...f\"V....|\n",
      "00000020  01 2c 7e 75 00 00 81 a4  00 00 01 f5 00 00 00 14  |.,~u............|\n",
      "00000030  00 00 00 00 e6 9d e2 9b  b2 d1 d6 43 4b 8b 29 ae  |...........CK.).|\n",
      "00000040  77 5a d8 c2 e4 8c 53 91  00 09 61 2f 62 2f 63 2e  |wZ....S...a/b/c.|\n",
      "00000050  74 78 74 00 5d 3c d9 bc  23 6b f2 9e 5d 3c d9 bc  |txt.]<..#k..]<..|\n",
      "00000060  23 6b f2 9e 01 00 00 04  01 2c 94 00 00 00 81 a4  |#k.......,......|\n",
      "00000070  00 00 01 f5 00 00 00 14  00 00 00 00 e6 9d e2 9b  |................|\n",
      "00000080  b2 d1 d6 43 4b 8b 29 ae  77 5a d8 c2 e4 8c 53 91  |...CK.).wZ....S.|\n",
      "00000090  00 08 66 69 6c 65 2e 74  78 74 00 00 5d 3c 95 61  |..file.txt..]<.a|\n",
      "000000a0  00 c5 79 e2 5d 3c 95 61  00 c5 79 e2 01 00 00 04  |..y.]<.a..y.....|\n",
      "000000b0  01 2c 78 0d 00 00 81 a4  00 00 01 f5 00 00 00 14  |.,x.............|\n",
      "000000c0  00 00 00 07 e0 19 be 00  6c f3 34 89 e2 d0 17 7a  |........l.4....z|\n",
      "000000d0  38 37 a2 38 4e dd eb c5  00 09 68 65 6c 6c 6f 2e  |87.8N.....hello.|\n",
      "000000e0  74 78 74 00 5d 3c a0 9b  08 8f 60 39 5d 3c a0 9b  |txt.]<....`9]<..|\n",
      "000000f0  04 d0 dc 32 01 00 00 04  01 2c 7a f8 00 00 81 ed  |...2.....,z.....|\n",
      "00000100  00 00 01 f5 00 00 00 14  00 00 00 00 e6 9d e2 9b  |................|\n",
      "00000110  b2 d1 d6 43 4b 8b 29 ae  77 5a d8 c2 e4 8c 53 91  |...CK.).wZ....S.|\n",
      "00000120  00 0a 6b 69 74 74 65 6e  2e 74 78 74 00 00 00 00  |..kitten.txt....|\n",
      "00000130  00 00 00 00 5d 3c a6 5b  1e 67 f7 05 5d 3c a6 5b  |....]<.[.g..]<.[|\n",
      "00000140  1a e8 b5 a8 01 00 00 04  01 2c 7d 6d 00 00 81 a4  |.........,}m....|\n",
      "00000150  00 00 01 f5 00 00 00 14  00 00 00 00 e6 9d e2 9b  |................|\n",
      "00000160  b2 d1 d6 43 4b 8b 29 ae  77 5a d8 c2 e4 8c 53 91  |...CK.).wZ....S.|\n",
      "00000170  00 09 6f 74 68 65 72 2e  74 78 74 00 5d 3c 95 2e  |..other.txt.]<..|\n",
      "00000180  08 7d 65 2d 5d 3c 95 2e  08 7d 65 2d 01 00 00 04  |.}e-]<...}e-....|\n",
      "00000190  01 2c 78 0e 00 00 81 a4  00 00 01 f5 00 00 00 14  |.,x.............|\n",
      "000001a0  00 00 00 06 cc 62 8c cd  10 74 2b ae a8 24 1c 59  |.....b...t+..$.Y|\n",
      "000001b0  24 df 99 2b 5c 01 9f 71  00 09 77 6f 72 6c 64 2e  |$..+\\..q..world.|\n",
      "000001c0  74 78 74 00 54 52 45 45  00 00 00 3a 00 2d 31 20  |txt.TREE...:.-1 |\n",
      "000001d0  31 0a 61 00 31 20 31 0a  c4 a6 44 af b0 90 a8 30  |1.a.1 1...D....0|\n",
      "000001e0  3b db 28 30 6a 2f 80 30  17 55 1f 25 62 00 31 20  |;.(0j/.0.U.%b.1 |\n",
      "000001f0  30 0a 17 21 a7 a9 1e 87  f5 41 3c 84 2a 9c 5c e7  |0..!.....A<.*.\\.|\n",
      "00000200  3f 67 44 59 e9 2b 8e fb  55 ee 15 17 98 76 5e 43  |?gDY.+..U....v^C|\n",
      "00000210  33 0f 2b 34 c9 68 ba c3  c7 25                    |3.+4.h...%|\n",
      "0000021a\n"
     ]
    }
   ],
   "source": [
    "hexdump -C .git/index"
   ]
  },
  {
   "cell_type": "code",
   "execution_count": 6,
   "metadata": {},
   "outputs": [],
   "source": [
    "git cat-file -p e69de29bb2d1d6434b8b29ae775ad8c2e48c5391"
   ]
  },
  {
   "cell_type": "code",
   "execution_count": 8,
   "metadata": {},
   "outputs": [
    {
     "name": "stdout",
     "output_type": "stream",
     "text": [
      "00000000  44 49 52 43 00 00 00 02  00 00 00 06 5d 3c a8 c1  |DIRC........]<..|\n",
      "00000010  1c 66 22 56 5d 3c a8 c1  1c 66 22 56 01 00 00 04  |.f\"V]<...f\"V....|\n",
      "00000020  01 2c 7e 75 00 00 81 a4  00 00 01 f5 00 00 00 14  |.,~u............|\n",
      "00000030  00 00 00 00 e6 9d e2 9b  b2 d1 d6 43 4b 8b 29 ae  |...........CK.).|\n",
      "00000040  77 5a d8 c2 e4 8c 53 91  00 09 61 2f 62 2f 63 2e  |wZ....S...a/b/c.|\n",
      "00000050  74 78 74 00 5d 3c da 39  15 7a f1 5a 5d 3c da 39  |txt.]<.9.z.Z]<.9|\n",
      "00000060  15 7a f1 5a 01 00 00 04  01 2c 94 00 00 00 81 a4  |.z.Z.....,......|\n",
      "00000070  00 00 01 f5 00 00 00 14  00 00 00 0c b6 6b a0 6d  |.............k.m|\n",
      "00000080  31 5d 46 28 0b b0 9d 54  61 4c c5 2d 16 77 80 9f  |1]F(...TaL.-.w..|\n",
      "00000090  00 08 66 69 6c 65 2e 74  78 74 00 00 5d 3c 95 61  |..file.txt..]<.a|\n",
      "000000a0  00 c5 79 e2 5d 3c 95 61  00 c5 79 e2 01 00 00 04  |..y.]<.a..y.....|\n",
      "000000b0  01 2c 78 0d 00 00 81 a4  00 00 01 f5 00 00 00 14  |.,x.............|\n",
      "000000c0  00 00 00 07 e0 19 be 00  6c f3 34 89 e2 d0 17 7a  |........l.4....z|\n",
      "000000d0  38 37 a2 38 4e dd eb c5  00 09 68 65 6c 6c 6f 2e  |87.8N.....hello.|\n",
      "000000e0  74 78 74 00 5d 3c a0 9b  08 8f 60 39 5d 3c a0 9b  |txt.]<....`9]<..|\n",
      "000000f0  04 d0 dc 32 01 00 00 04  01 2c 7a f8 00 00 81 ed  |...2.....,z.....|\n",
      "00000100  00 00 01 f5 00 00 00 14  00 00 00 00 e6 9d e2 9b  |................|\n",
      "00000110  b2 d1 d6 43 4b 8b 29 ae  77 5a d8 c2 e4 8c 53 91  |...CK.).wZ....S.|\n",
      "00000120  00 0a 6b 69 74 74 65 6e  2e 74 78 74 00 00 00 00  |..kitten.txt....|\n",
      "00000130  00 00 00 00 5d 3c a6 5b  1e 67 f7 05 5d 3c a6 5b  |....]<.[.g..]<.[|\n",
      "00000140  1a e8 b5 a8 01 00 00 04  01 2c 7d 6d 00 00 81 a4  |.........,}m....|\n",
      "00000150  00 00 01 f5 00 00 00 14  00 00 00 00 e6 9d e2 9b  |................|\n",
      "00000160  b2 d1 d6 43 4b 8b 29 ae  77 5a d8 c2 e4 8c 53 91  |...CK.).wZ....S.|\n",
      "00000170  00 09 6f 74 68 65 72 2e  74 78 74 00 5d 3c 95 2e  |..other.txt.]<..|\n",
      "00000180  08 7d 65 2d 5d 3c 95 2e  08 7d 65 2d 01 00 00 04  |.}e-]<...}e-....|\n",
      "00000190  01 2c 78 0e 00 00 81 a4  00 00 01 f5 00 00 00 14  |.,x.............|\n",
      "000001a0  00 00 00 06 cc 62 8c cd  10 74 2b ae a8 24 1c 59  |.....b...t+..$.Y|\n",
      "000001b0  24 df 99 2b 5c 01 9f 71  00 09 77 6f 72 6c 64 2e  |$..+\\..q..world.|\n",
      "000001c0  74 78 74 00 54 52 45 45  00 00 00 3a 00 2d 31 20  |txt.TREE...:.-1 |\n",
      "000001d0  31 0a 61 00 31 20 31 0a  c4 a6 44 af b0 90 a8 30  |1.a.1 1...D....0|\n",
      "000001e0  3b db 28 30 6a 2f 80 30  17 55 1f 25 62 00 31 20  |;.(0j/.0.U.%b.1 |\n",
      "000001f0  30 0a 17 21 a7 a9 1e 87  f5 41 3c 84 2a 9c 5c e7  |0..!.....A<.*.\\.|\n",
      "00000200  3f 67 44 59 e9 2b 4a 45  00 8c 02 af a5 03 63 d9  |?gDY.+JE......c.|\n",
      "00000210  fc 8a 4b 4e 7b 40 53 1f  2a 6b                    |..KN{@S.*k|\n",
      "0000021a\n"
     ]
    }
   ],
   "source": [
    "git add .\n",
    "hexdump -C .git/index"
   ]
  },
  {
   "cell_type": "code",
   "execution_count": 9,
   "metadata": {},
   "outputs": [
    {
     "name": "stdout",
     "output_type": "stream",
     "text": [
      "new content\n"
     ]
    }
   ],
   "source": [
    "git cat-file -p b66ba06d315d46280bb09d54614cc52d1677809f"
   ]
  },
  {
   "cell_type": "code",
   "execution_count": 10,
   "metadata": {},
   "outputs": [
    {
     "name": "stdout",
     "output_type": "stream",
     "text": [
      ".git/objects\n",
      "├── 04\n",
      "│   └── 0c6f3e807f0d433870584bc91e06b6046b955d\n",
      "├── 17\n",
      "│   └── 21a7a91e87f5413c842a9c5ce73f674459e92b\n",
      "├── 2f\n",
      "│   └── 38c70f7fd7eee711ba87eafdf3712558abe42a\n",
      "├── 38\n",
      "│   └── 594d702961d5aa784c106a055213a9028a5638\n",
      "├── 4b\n",
      "│   └── 6215ac80b4b840a8f6c714f12dd2bab9ac5371\n",
      "├── 65\n",
      "│   └── a5a2d6b91f55ffa4e5e707a64446bd1d83ec58\n",
      "├── 88\n",
      "│   └── e38705fdbd3608cddbe904b67c731f3234c45b\n",
      "├── b6\n",
      "│   └── 6ba06d315d46280bb09d54614cc52d1677809f\n",
      "├── c4\n",
      "│   └── a644afb090a8303bdb28306a2f803017551f25\n",
      "├── cc\n",
      "│   └── 628ccd10742baea8241c5924df992b5c019f71\n",
      "├── ce\n",
      "│   └── 013625030ba8dba906f756967f9e9ca394464a\n",
      "├── d9\n",
      "│   └── a710f4b3b5d45de8e8b73bc614effda7706bb6\n",
      "├── e0\n",
      "│   └── 19be006cf33489e2d0177a3837a2384eddebc5\n",
      "├── e6\n",
      "│   └── 9de29bb2d1d6434b8b29ae775ad8c2e48c5391\n",
      "├── f8\n",
      "│   └── 26d50b3070fbd98c329cfeab412f0c8fd9b60a\n",
      "├── fa\n",
      "│   └── 4ca11c7107dd417139c7ca9ba6cecca6d1a4f6\n",
      "├── ff\n",
      "│   └── 048bd47d7d84ef0b6d79eb6b8b76e1d1914dcd\n",
      "├── info\n",
      "└── pack\n",
      "\n",
      "19 directories, 17 files\n"
     ]
    }
   ],
   "source": [
    "tree .git/objects"
   ]
  },
  {
   "cell_type": "code",
   "execution_count": 11,
   "metadata": {},
   "outputs": [
    {
     "name": "stdout",
     "output_type": "stream",
     "text": [
      "100644 e69de29bb2d1d6434b8b29ae775ad8c2e48c5391 0\ta/b/c.txt\n",
      "100644 b66ba06d315d46280bb09d54614cc52d1677809f 0\tfile.txt\n",
      "100644 e019be006cf33489e2d0177a3837a2384eddebc5 0\thello.txt\n",
      "100755 e69de29bb2d1d6434b8b29ae775ad8c2e48c5391 0\tkitten.txt\n",
      "100644 e69de29bb2d1d6434b8b29ae775ad8c2e48c5391 0\tother.txt\n",
      "100644 cc628ccd10742baea8241c5924df992b5c019f71 0\tworld.txt\n"
     ]
    }
   ],
   "source": [
    "git ls-files --stage"
   ]
  },
  {
   "cell_type": "code",
   "execution_count": null,
   "metadata": {},
   "outputs": [],
   "source": []
  }
 ],
 "metadata": {
  "kernelspec": {
   "display_name": "Bash",
   "language": "bash",
   "name": "bash"
  },
  "language_info": {
   "codemirror_mode": "shell",
   "file_extension": ".sh",
   "mimetype": "text/x-sh",
   "name": "bash"
  }
 },
 "nbformat": 4,
 "nbformat_minor": 2
}
