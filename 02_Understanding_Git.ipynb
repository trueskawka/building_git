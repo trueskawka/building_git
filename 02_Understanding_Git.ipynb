{
 "cells": [
  {
   "cell_type": "markdown",
   "metadata": {},
   "source": [
    "# Getting to know Git\n",
    "Tools used:\n",
    "- `tree`\n",
    "- `wc`\n",
    "- `hexdump`"
   ]
  },
  {
   "cell_type": "markdown",
   "metadata": {},
   "source": [
    "## The `.git` directory"
   ]
  },
  {
   "cell_type": "code",
   "execution_count": 1,
   "metadata": {
    "scrolled": true
   },
   "outputs": [
    {
     "name": "stdout",
     "output_type": "stream",
     "text": [
      "Initialized empty Git repository in /Users/trueskawka/Documents/Alicja/Projects/programming/building_git/first-repo/.git/\n"
     ]
    }
   ],
   "source": [
    "git init first-repo"
   ]
  },
  {
   "cell_type": "code",
   "execution_count": 2,
   "metadata": {},
   "outputs": [],
   "source": [
    "cd first-repo/"
   ]
  },
  {
   "cell_type": "code",
   "execution_count": 3,
   "metadata": {},
   "outputs": [
    {
     "name": "stdout",
     "output_type": "stream",
     "text": [
      ".git/\n",
      "├── HEAD\n",
      "├── config\n",
      "├── description\n",
      "├── hooks\n",
      "│   ├── applypatch-msg.sample\n",
      "│   ├── commit-msg.sample\n",
      "│   ├── fsmonitor-watchman.sample\n",
      "│   ├── post-update.sample\n",
      "│   ├── pre-applypatch.sample\n",
      "│   ├── pre-commit.sample\n",
      "│   ├── pre-push.sample\n",
      "│   ├── pre-rebase.sample\n",
      "│   ├── pre-receive.sample\n",
      "│   ├── prepare-commit-msg.sample\n",
      "│   └── update.sample\n",
      "├── info\n",
      "│   └── exclude\n",
      "├── objects\n",
      "│   ├── info\n",
      "│   └── pack\n",
      "└── refs\n",
      "    ├── heads\n",
      "    └── tags\n",
      "\n",
      "8 directories, 15 files\n"
     ]
    }
   ],
   "source": [
    "# list the directory structure\n",
    "tree .git/"
   ]
  },
  {
   "cell_type": "code",
   "execution_count": 4,
   "metadata": {},
   "outputs": [
    {
     "name": "stdout",
     "output_type": "stream",
     "text": [
      "[core]\n",
      "\trepositoryformatversion = 0\n",
      "\tfilemode = true\n",
      "\tbare = false\n",
      "\tlogallrefupdates = true\n",
      "\tignorecase = true\n",
      "\tprecomposeunicode = true\n"
     ]
    }
   ],
   "source": [
    "# configuration for this repository\n",
    "cat .git/config"
   ]
  },
  {
   "cell_type": "markdown",
   "metadata": {},
   "source": [
    "- `repositoryformatversion = 0` - using version 0 of the repository format\n",
    "- `filemode = true` - store each file's mode (e.g. if it's executable)\n",
    "- `bare = false` - user will be editing working copy of files and creating commits\n",
    "- `logallrefupdates = true` - reflog is enabled\n",
    "- `ignorecase = true` and `precomposeunicode = true` - handle text encoding in OS X"
   ]
  },
  {
   "cell_type": "code",
   "execution_count": 9,
   "metadata": {},
   "outputs": [
    {
     "name": "stdout",
     "output_type": "stream",
     "text": [
      "Unnamed repository; edit this file 'description' to name the repository.\n"
     ]
    }
   ],
   "source": [
    "# name of the repository\n",
    "cat .git/description"
   ]
  },
  {
   "cell_type": "code",
   "execution_count": 10,
   "metadata": {},
   "outputs": [
    {
     "name": "stdout",
     "output_type": "stream",
     "text": [
      "ref: refs/heads/master\n"
     ]
    }
   ],
   "source": [
    "# reference to the current commit\n",
    "cat .git/HEAD"
   ]
  },
  {
   "cell_type": "code",
   "execution_count": 12,
   "metadata": {},
   "outputs": [
    {
     "name": "stdout",
     "output_type": "stream",
     "text": [
      "# git ls-files --others --exclude-from=.git/info/exclude\n",
      "# Lines that start with '#' are comments.\n",
      "# For a project mostly in C, the following would be a good set of\n",
      "# exclude patterns (uncomment them if you want to use them):\n",
      "# *.[oa]\n",
      "# *~\n"
     ]
    }
   ],
   "source": [
    "# .git/info contains metadata about the repository that don't fit into other main directories\n",
    "# .git/info/exclude files that should not be checked in (not part of the source tree)\n",
    "# as opposed to .gitignore which is tracked in Git\n",
    "cat .git/info/exclude"
   ]
  },
  {
   "cell_type": "code",
   "execution_count": 14,
   "metadata": {},
   "outputs": [
    {
     "name": "stdout",
     "output_type": "stream",
     "text": [
      "#!/bin/sh\n",
      "#\n",
      "# An example hook script to check the commit log message.\n",
      "# Called by \"git commit\" with one argument, the name of the file\n",
      "# that has the commit message.  The hook should exit with non-zero\n",
      "# status after issuing an appropriate message if it wants to stop the\n",
      "# commit.  The hook is allowed to edit the commit message file.\n",
      "#\n",
      "# To enable this hook, rename this file to \"commit-msg\".\n",
      "\n",
      "# Uncomment the below to add a Signed-off-by line to the message.\n",
      "# Doing this in a hook is a bad idea in general, but the prepare-commit-msg\n",
      "# hook is more suited to it.\n",
      "#\n",
      "# SOB=$(git var GIT_AUTHOR_IDENT | sed -n 's/^\\(.*>\\).*$/Signed-off-by: \\1/p')\n",
      "# grep -qs \"^$SOB\" \"$1\" || echo \"$SOB\" >> \"$1\"\n",
      "\n",
      "# This example catches duplicate Signed-off-by lines.\n",
      "\n",
      "test \"\" = \"$(grep '^Signed-off-by: ' \"$1\" |\n",
      "\t sort | uniq -c | sed -e '/^[ \t]*1[ \t]/d')\" || {\n",
      "\techo >&2 Duplicate Signed-off-by lines.\n",
      "\texit 1\n",
      "}\n"
     ]
    }
   ],
   "source": [
    "# scripts that Git will execute as part of core commands\n",
    "# e.g. before creating a commit .git/hooks/pre-commit\n",
    "# on init a lot of .sample files are created\n",
    "cat .git/hooks/commit-msg.sample"
   ]
  },
  {
   "cell_type": "code",
   "execution_count": 15,
   "metadata": {},
   "outputs": [],
   "source": [
    "# .git/objects is where all the content is stored\n",
    "# .git/objects/pack - storing in an optimized format (rolling up loose files in a pack)\n",
    "# .git/objects/info - store metadata"
   ]
  },
  {
   "cell_type": "code",
   "execution_count": 16,
   "metadata": {},
   "outputs": [],
   "source": [
    "# .git/refs stores pointers to .git/objects, e.g.:\n",
    "# .git/refs/heads - latest commit on each local branch\n",
    "# .git/refs/remotes - latest commit on each remote branch\n",
    "# .git/refs/tags - tags\n",
    "# .git/refs/stash - stashed objects reference"
   ]
  },
  {
   "cell_type": "markdown",
   "metadata": {},
   "source": [
    "## A simple commit"
   ]
  },
  {
   "cell_type": "code",
   "execution_count": 5,
   "metadata": {},
   "outputs": [
    {
     "name": "stdout",
     "output_type": "stream",
     "text": [
      "[master (root-commit) d9a710f] First commit.\n",
      " 2 files changed, 2 insertions(+)\n",
      " create mode 100644 hello.txt\n",
      " create mode 100644 world.txt\n"
     ]
    }
   ],
   "source": [
    "echo \"hello\" > hello.txt\n",
    "echo \"world\" > world.txt\n",
    "git add .\n",
    "git commit --message \"First commit.\""
   ]
  },
  {
   "cell_type": "markdown",
   "metadata": {},
   "source": [
    "Printing out some useful stuff on commit:\n",
    "- on `master` branch\n",
    "- made a `root-commit` (has no parent)\n",
    "- abbreviated commit hash `badbad5`\n",
    "- commit message `First commit.`\n",
    "- two new files with mode `100644`"
   ]
  },
  {
   "cell_type": "code",
   "execution_count": 18,
   "metadata": {},
   "outputs": [
    {
     "name": "stdout",
     "output_type": "stream",
     "text": [
      ".git\n",
      "├── COMMIT_EDITMSG\n",
      "├── HEAD\n",
      "├── config\n",
      "├── description\n",
      "├── hooks\n",
      "│   ├── applypatch-msg.sample\n",
      "│   ├── commit-msg.sample\n",
      "│   ├── fsmonitor-watchman.sample\n",
      "│   ├── post-update.sample\n",
      "│   ├── pre-applypatch.sample\n",
      "│   ├── pre-commit.sample\n",
      "│   ├── pre-push.sample\n",
      "│   ├── pre-rebase.sample\n",
      "│   ├── pre-receive.sample\n",
      "│   ├── prepare-commit-msg.sample\n",
      "│   └── update.sample\n",
      "├── index\n",
      "├── info\n",
      "│   └── exclude\n",
      "├── logs\n",
      "│   ├── HEAD\n",
      "│   └── refs\n",
      "│       └── heads\n",
      "│           └── master\n",
      "├── objects\n",
      "│   ├── 88\n",
      "│   │   └── e38705fdbd3608cddbe904b67c731f3234c45b\n",
      "│   ├── ba\n",
      "│   │   └── dbad5bb37eae9c37336ccb7b0a5529fbe95acb\n",
      "│   ├── cc\n",
      "│   │   └── 628ccd10742baea8241c5924df992b5c019f71\n",
      "│   ├── ce\n",
      "│   │   └── 013625030ba8dba906f756967f9e9ca394464a\n",
      "│   ├── info\n",
      "│   └── pack\n",
      "└── refs\n",
      "    ├── heads\n",
      "    │   └── master\n",
      "    └── tags\n",
      "\n",
      "15 directories, 24 files\n"
     ]
    }
   ],
   "source": [
    "tree .git"
   ]
  },
  {
   "cell_type": "code",
   "execution_count": 19,
   "metadata": {},
   "outputs": [
    {
     "name": "stdout",
     "output_type": "stream",
     "text": [
      "First commit.\n"
     ]
    }
   ],
   "source": [
    "# message given for the commit\n",
    "# if no --message is passed, opens this file in a text editor and saves\n",
    "# --message saves it in this file\n",
    "cat .git/COMMIT_EDITMSG"
   ]
  },
  {
   "cell_type": "code",
   "execution_count": 20,
   "metadata": {},
   "outputs": [
    {
     "name": "stdout",
     "output_type": "stream",
     "text": [
      "DIRC\u0000\u0000\u0000\u0002\u0000\u0000\u0000\u0002];��:�S�];��:�S�\u0001\u0000\u0000\u0004\u0001,?�\u0000\u0000��\u0000\u0000\u0001�\u0000\u0000\u0000\u0014\u0000\u0000\u0000\u0006�\u00016%\u0003\u000b",
      "�۩\u0006�V�����FJ\u0000\thello.txt\u0000];��\u0002ͻ�];��\u0002ͻ�\u0001\u0000\u0000\u0004\u0001,?�\u0000\u0000��\u0000\u0000\u0001�\u0000\u0000\u0000\u0014\u0000\u0000\u0000\u0006�b��\u0010t+��$\u001c",
      "Y$ߙ+\\\u0001�q\u0000\tworld.txt\u0000TREE\u0000\u0000\u0000\u0019\u00002 0\n",
      "��\u0005�����\u0004�|s\u001f24�[\u0000�FB���A*A��=�4�U\u0003b"
     ]
    }
   ],
   "source": [
    "# stores information about each file in current commit\n",
    "cat .git/index"
   ]
  },
  {
   "cell_type": "code",
   "execution_count": 22,
   "metadata": {},
   "outputs": [
    {
     "name": "stdout",
     "output_type": "stream",
     "text": [
      "0000000000000000000000000000000000000000 badbad5bb37eae9c37336ccb7b0a5529fbe95acb Alicja Raszkowska <malavarena@gmail.com> 1564186848 -0700\tcommit (initial): First commit.\n",
      "0000000000000000000000000000000000000000 badbad5bb37eae9c37336ccb7b0a5529fbe95acb Alicja Raszkowska <malavarena@gmail.com> 1564186848 -0700\tcommit (initial): First commit.\n"
     ]
    }
   ],
   "source": [
    "# log of every time a ref to a commit changes its value\n",
    "# used by reflog\n",
    "cat .git/logs/HEAD # symref to refs/heads/master\n",
    "cat .git/logs/refs/heads/master"
   ]
  },
  {
   "cell_type": "markdown",
   "metadata": {},
   "source": [
    "Recorded log event: `0000000000000000000000000000000000000000` (pointing at nothing) changed to commit hash `badbad5bb37eae9c37336ccb7b0a5529fbe95acb`."
   ]
  },
  {
   "cell_type": "code",
   "execution_count": 23,
   "metadata": {},
   "outputs": [
    {
     "name": "stdout",
     "output_type": "stream",
     "text": [
      "badbad5bb37eae9c37336ccb7b0a5529fbe95acb\n"
     ]
    }
   ],
   "source": [
    "# records which commit is at the tip of master\n",
    "cat .git/refs/heads/master"
   ]
  },
  {
   "cell_type": "markdown",
   "metadata": {},
   "source": [
    "## Storing objects"
   ]
  },
  {
   "cell_type": "code",
   "execution_count": 25,
   "metadata": {},
   "outputs": [
    {
     "name": "stdout",
     "output_type": "stream",
     "text": [
      "\u001b[33mcommit badbad5bb37eae9c37336ccb7b0a5529fbe95acb\u001b[m\u001b[33m (\u001b[m\u001b[1;36mHEAD -> \u001b[m\u001b[1;32mmaster\u001b[m\u001b[33m)\u001b[m\n",
      "Author: Alicja Raszkowska <malavarena@gmail.com>\n",
      "Date:   Fri Jul 26 17:20:48 2019 -0700\n",
      "\n",
      "    First commit.\n",
      "\n",
      "\u001b[1mdiff --git a/hello.txt b/hello.txt\u001b[m\n",
      "\u001b[1mnew file mode 100644\u001b[m\n",
      "\u001b[1mindex 0000000..ce01362\u001b[m\n",
      "\u001b[1m--- /dev/null\u001b[m\n",
      "\u001b[1m+++ b/hello.txt\u001b[m\n",
      "\u001b[36m@@ -0,0 +1 @@\u001b[m\n",
      "\u001b[32m+\u001b[m\u001b[32mhello\u001b[m\n",
      "\u001b[1mdiff --git a/world.txt b/world.txt\u001b[m\n",
      "\u001b[1mnew file mode 100644\u001b[m\n",
      "\u001b[1mindex 0000000..cc628cc\u001b[m\n",
      "\u001b[1m--- /dev/null\u001b[m\n",
      "\u001b[1m+++ b/world.txt\u001b[m\n",
      "\u001b[36m@@ -0,0 +1 @@\u001b[m\n",
      "\u001b[32m+\u001b[m\u001b[32mworld\u001b[m\n"
     ]
    }
   ],
   "source": [
    "# print information about the HEAD commit\n",
    "git show"
   ]
  },
  {
   "cell_type": "markdown",
   "metadata": {},
   "source": [
    "One of the files in .git/objects is `ba/dbad5bb37eae9c37336ccb7b0a5529fbe95acb` - ID of the commit with the first two chars being the directory name."
   ]
  },
  {
   "cell_type": "code",
   "execution_count": 26,
   "metadata": {},
   "outputs": [
    {
     "name": "stdout",
     "output_type": "stream",
     "text": [
      "tree 88e38705fdbd3608cddbe904b67c731f3234c45b\n",
      "author Alicja Raszkowska <malavarena@gmail.com> 1564186848 -0700\n",
      "committer Alicja Raszkowska <malavarena@gmail.com> 1564186848 -0700\n",
      "\n",
      "First commit.\n"
     ]
    }
   ],
   "source": [
    "# print commit file from the database with -p pretty print\n",
    "git cat-file -p badbad5bb37eae9c37336ccb7b0a5529fbe95acb"
   ]
  },
  {
   "cell_type": "markdown",
   "metadata": {},
   "source": [
    "Commit representation:\n",
    "- first line `tree` followed by tree ID (commits point to trees)\n",
    "- author and commiter lines, with timestamps\n",
    "- blank line\n",
    "- commit message\n",
    "\n",
    "The tree ID is not dependent on commiter or timestamps, just the commit content, so it should be the same for identical file contents."
   ]
  },
  {
   "cell_type": "code",
   "execution_count": 28,
   "metadata": {},
   "outputs": [
    {
     "name": "stdout",
     "output_type": "stream",
     "text": [
      "100644 blob ce013625030ba8dba906f756967f9e9ca394464a\thello.txt\n",
      "100644 blob cc628ccd10742baea8241c5924df992b5c019f71\tworld.txt\n"
     ]
    }
   ],
   "source": [
    "# let's look at the tree\n",
    "git cat-file -p 88e38705fdbd3608cddbe904b67c731f3234c45b"
   ]
  },
  {
   "cell_type": "markdown",
   "metadata": {},
   "source": [
    "A tree file has:\n",
    "- one tree for every directory in the project (including root)\n",
    "- that tree lists the contents - either trees (subdirectory) or blobs (files)\n",
    "\n",
    "Each entry lists:\n",
    "- mode - numeric representation of the type and permissions\n",
    "- type - blob or tree\n",
    "- ID\n",
    "- filename"
   ]
  },
  {
   "cell_type": "code",
   "execution_count": 30,
   "metadata": {},
   "outputs": [
    {
     "name": "stdout",
     "output_type": "stream",
     "text": [
      "hello\n"
     ]
    }
   ],
   "source": [
    "# let's look at a blob\n",
    "# storing just the content\n",
    "git cat-file -p ce013625030ba8dba906f756967f9e9ca394464a"
   ]
  },
  {
   "cell_type": "code",
   "execution_count": 31,
   "metadata": {},
   "outputs": [
    {
     "name": "stdout",
     "output_type": "stream",
     "text": [
      "world\n"
     ]
    }
   ],
   "source": [
    "git cat-file -p cc628ccd10742baea8241c5924df992b5c019f71"
   ]
  },
  {
   "cell_type": "markdown",
   "metadata": {},
   "source": [
    "### Blobs on disk"
   ]
  },
  {
   "cell_type": "code",
   "execution_count": 33,
   "metadata": {},
   "outputs": [
    {
     "name": "stdout",
     "output_type": "stream",
     "text": [
      "x\u0001K��OR0c�H����\u0002\u0000\u001d",
      "�\u0004\u0014"
     ]
    }
   ],
   "source": [
    "# this file is compressed with DEFLATE algorithm, used in zlib\n",
    "cat .git/objects/ce/013625030ba8dba906f756967f9e9ca394464a"
   ]
  },
  {
   "cell_type": "code",
   "execution_count": 36,
   "metadata": {},
   "outputs": [],
   "source": [
    "# decompress and print data\n",
    "# -r zlib - require zlib\n",
    "# -e - inline script\n",
    "alias inflate='ruby -r zlib -e \"STDOUT.write Zlib::Inflate.inflate(STDIN.read)\"'"
   ]
  },
  {
   "cell_type": "code",
   "execution_count": 37,
   "metadata": {},
   "outputs": [
    {
     "name": "stdout",
     "output_type": "stream",
     "text": [
      "blob 6\u0000hello\n"
     ]
    }
   ],
   "source": [
    "cat .git/objects/ce/013625030ba8dba906f756967f9e9ca394464a | inflate"
   ]
  },
  {
   "cell_type": "code",
   "execution_count": 38,
   "metadata": {},
   "outputs": [
    {
     "name": "stdout",
     "output_type": "stream",
     "text": [
      "      13\n"
     ]
    }
   ],
   "source": [
    "# \"blob 6\" is probably a length header\n",
    "# \"blob 6\" - 6 bytes\n",
    "# \"hello\\n\" - 6 bytes\n",
    "# where is one extra byte coming from?\n",
    "cat .git/objects/ce/013625030ba8dba906f756967f9e9ca394464a | inflate | wc -c"
   ]
  },
  {
   "cell_type": "code",
   "execution_count": 39,
   "metadata": {},
   "outputs": [
    {
     "name": "stdout",
     "output_type": "stream",
     "text": [
      "00000000  62 6c 6f 62 20 36 00 68  65 6c 6c 6f 0a           |blob 6.hello.|\n",
      "0000000d\n"
     ]
    }
   ],
   "source": [
    "# print hexadecimal representation of the bytes in a file alongside textual\n",
    "cat .git/objects/ce/013625030ba8dba906f756967f9e9ca394464a | inflate | hexdump -C"
   ]
  },
  {
   "cell_type": "markdown",
   "metadata": {},
   "source": [
    "All files are just a list of bytes, `hexdump` shows numeric values of those bytes in hexadecimal, in rows of 16 values each. \n",
    "\n",
    "Leftmost column shows the total offset into the file each row begins at (in hexadecimal). \n",
    "\n",
    "Value at the bottom shows total size, e.g. `0000000d` is 13 bytes.\n",
    "\n",
    "Te column on the right between | characters sows the ASCII character for each column. If it's not printable in ASCII, then hexdump prints . in it's place (to make it easier to count by eye).\n",
    "\n",
    "In this file:\n",
    "- `62 6c 6f 62` - `blob`\n",
    "- `20` - space\n",
    "- `36`- digit `6`\n",
    "- `00` - null byte\n",
    "- `68  65 6c 6c 6f 0a` - `hello\\n`\n",
    "\n",
    "Git stores blobs by prepending them with `blob <length><null byte><content>` and compressed with `zlib`."
   ]
  },
  {
   "cell_type": "markdown",
   "metadata": {},
   "source": [
    "```\n",
    "Decimal    Hex    Binary\n",
    "      0      0      0000\n",
    "      1      1      0001\n",
    "      2      2      0010\n",
    "      3      3      0011\n",
    "      4      4      0100\n",
    "      5      5      0101\n",
    "      6      6      0110\n",
    "      7      7      0111\n",
    "      8      8      1000\n",
    "      9      9      1001\n",
    "     10      a      1010\n",
    "     11      b      1011\n",
    "     12      c      1100\n",
    "     13      d      1101\n",
    "     14      e      1110\n",
    "     15      f      1111\n",
    "```"
   ]
  },
  {
   "cell_type": "markdown",
   "metadata": {},
   "source": [
    "### Trees on disk"
   ]
  },
  {
   "cell_type": "code",
   "execution_count": 40,
   "metadata": {},
   "outputs": [
    {
     "name": "stdout",
     "output_type": "stream",
     "text": [
      "tree 74\u0000100644 hello.txt\u0000�\u00016%\u0003\u000b",
      "�۩\u0006�V�����FJ100644 world.txt\u0000�b��\u0010t+��$\u001c",
      "Y$ߙ+\\\u0001�q"
     ]
    }
   ],
   "source": [
    "cat .git/objects/88/e38705fdbd3608cddbe904b67c731f3234c45b | inflate"
   ]
  },
  {
   "cell_type": "code",
   "execution_count": 41,
   "metadata": {},
   "outputs": [
    {
     "name": "stdout",
     "output_type": "stream",
     "text": [
      "00000000  74 72 65 65 20 37 34 00  31 30 30 36 34 34 20 68  |tree 74.100644 h|\n",
      "00000010  65 6c 6c 6f 2e 74 78 74  00 ce 01 36 25 03 0b a8  |ello.txt...6%...|\n",
      "00000020  db a9 06 f7 56 96 7f 9e  9c a3 94 46 4a 31 30 30  |....V......FJ100|\n",
      "00000030  36 34 34 20 77 6f 72 6c  64 2e 74 78 74 00 cc 62  |644 world.txt..b|\n",
      "00000040  8c cd 10 74 2b ae a8 24  1c 59 24 df 99 2b 5c 01  |...t+..$.Y$..+\\.|\n",
      "00000050  9f 71                                             |.q|\n",
      "00000052\n"
     ]
    }
   ],
   "source": [
    "cat .git/objects/88/e38705fdbd3608cddbe904b67c731f3234c45b | inflate | hexdump -C"
   ]
  },
  {
   "cell_type": "markdown",
   "metadata": {},
   "source": [
    "Structure:\n",
    "- `74 72 65 65` - `tree`, type of the object\n",
    "- `20` - space\n",
    "- `37 34` - size (`74`)\n",
    "- `00` - null byte (end of length)\n",
    "-  `31 30 30 36 34 34` - `100644`, file mode\n",
    "- `20` - space\n",
    "- `68 65 6c 6c 6f 2e 74 78 74` - `hello.txt`, file name\n",
    "- `00` - null byte (end of file name)\n",
    "- `ce 01 36 25 03 0b a8 db a9 06 f7 56 96 7f 9e 9c a3 94 46 4a` - object ID\n",
    "- `31 30 30 36 34 34` - `100644`, file mode\n",
    "- `20` - space\n",
    "- `77 6f 72 6c  64 2e 74 78 74` - `world.txt`, file name\n",
    "- `00` - null byte (end of file name)\n",
    "- `cc 62 8c cd 10 74 2b ae a8 24 1c 59 24 df 99 2b 5c 01 9f 71` - object ID"
   ]
  },
  {
   "cell_type": "markdown",
   "metadata": {},
   "source": [
    "Why are object IDs 40 chars?\n",
    "\n",
    "- object IDs are hexadecimal representations of numbers\n",
    "- each digit represents four bits in binary\n",
    "- in a 40-digit object ID each digit stands for four bits of a 160-bit number\n",
    "- it's being stored in binary as twenty blocks of eight bits (20 bytes)"
   ]
  },
  {
   "cell_type": "markdown",
   "metadata": {},
   "source": [
    "### Commits on disk"
   ]
  },
  {
   "cell_type": "code",
   "execution_count": 44,
   "metadata": {
    "scrolled": true
   },
   "outputs": [
    {
     "name": "stdout",
     "output_type": "stream",
     "text": [
      "commit 194\u0000tree 88e38705fdbd3608cddbe904b67c731f3234c45b\n",
      "author Alicja Raszkowska <malavarena@gmail.com> 1564186848 -0700\n",
      "committer Alicja Raszkowska <malavarena@gmail.com> 1564186848 -0700\n",
      "\n",
      "First commit.\n"
     ]
    }
   ],
   "source": [
    "cat .git/objects/ba/dbad5bb37eae9c37336ccb7b0a5529fbe95acb | inflate"
   ]
  },
  {
   "cell_type": "code",
   "execution_count": 45,
   "metadata": {},
   "outputs": [
    {
     "name": "stdout",
     "output_type": "stream",
     "text": [
      "00000000  63 6f 6d 6d 69 74 20 31  39 34 00 74 72 65 65 20  |commit 194.tree |\n",
      "00000010  38 38 65 33 38 37 30 35  66 64 62 64 33 36 30 38  |88e38705fdbd3608|\n",
      "00000020  63 64 64 62 65 39 30 34  62 36 37 63 37 33 31 66  |cddbe904b67c731f|\n",
      "00000030  33 32 33 34 63 34 35 62  0a 61 75 74 68 6f 72 20  |3234c45b.author |\n",
      "00000040  41 6c 69 63 6a 61 20 52  61 73 7a 6b 6f 77 73 6b  |Alicja Raszkowsk|\n",
      "00000050  61 20 3c 6d 61 6c 61 76  61 72 65 6e 61 40 67 6d  |a <malavarena@gm|\n",
      "00000060  61 69 6c 2e 63 6f 6d 3e  20 31 35 36 34 31 38 36  |ail.com> 1564186|\n",
      "00000070  38 34 38 20 2d 30 37 30  30 0a 63 6f 6d 6d 69 74  |848 -0700.commit|\n",
      "00000080  74 65 72 20 41 6c 69 63  6a 61 20 52 61 73 7a 6b  |ter Alicja Raszk|\n",
      "00000090  6f 77 73 6b 61 20 3c 6d  61 6c 61 76 61 72 65 6e  |owska <malavaren|\n",
      "000000a0  61 40 67 6d 61 69 6c 2e  63 6f 6d 3e 20 31 35 36  |a@gmail.com> 156|\n",
      "000000b0  34 31 38 36 38 34 38 20  2d 30 37 30 30 0a 0a 46  |4186848 -0700..F|\n",
      "000000c0  69 72 73 74 20 63 6f 6d  6d 69 74 2e 0a           |irst commit..|\n",
      "000000cd\n"
     ]
    }
   ],
   "source": [
    "cat .git/objects/ba/dbad5bb37eae9c37336ccb7b0a5529fbe95acb | inflate | hexdump -C"
   ]
  },
  {
   "cell_type": "markdown",
   "metadata": {},
   "source": [
    "Structure:\n",
    "- `commit <commit-length>`\n",
    "- `00` - null byte after lenght\n",
    "- `tree` - all commits refer to a single tree representing the state of files at that point in history (commits are pointers to complete snapshot of state of the project, not diffs)\n",
    "- `author`\n",
    "- `committer`\n",
    "- blank line\n",
    "- commit message"
   ]
  },
  {
   "cell_type": "markdown",
   "metadata": {},
   "source": [
    "### Computing object IDs"
   ]
  },
  {
   "cell_type": "code",
   "execution_count": 60,
   "metadata": {},
   "outputs": [],
   "source": [
    "echo '\n",
    "require \"digest/sha1\"\n",
    "require \"zlib\"\n",
    "\n",
    "string = \"hello\\n\"\n",
    "puts \"raw:\"\n",
    "puts Digest::SHA1.hexdigest(string)\n",
    "\n",
    "blob = \"blob #{ string.bytesize }\\0#{ string }\" \n",
    "puts \"blob:\"\n",
    "puts Digest::SHA1.hexdigest(blob)\n",
    "\n",
    "zipped = Zlib::Deflate.deflate(blob)\n",
    "puts \"zipped:\"\n",
    "puts Digest::SHA1.hexdigest(zipped)\n",
    "' >> sha.rb"
   ]
  },
  {
   "cell_type": "code",
   "execution_count": 61,
   "metadata": {},
   "outputs": [
    {
     "name": "stdout",
     "output_type": "stream",
     "text": [
      "raw:\n",
      "f572d396fae9206628714fb2ce00f72e94f2258f\n",
      "blob:\n",
      "ce013625030ba8dba906f756967f9e9ca394464a\n",
      "zipped:\n",
      "3a3cca74450ee8a0245e7c564ac9e68f8233b1e8\n"
     ]
    }
   ],
   "source": [
    "ruby sha.rb"
   ]
  },
  {
   "cell_type": "markdown",
   "metadata": {},
   "source": [
    "The ID is made from:\n",
    "- file content\n",
    "- prepended by bytesize lenght\n",
    "- prepended by `blob`\n",
    "- computed SHA-1\n",
    "\n",
    "This helps speed up comparisons - if two objects have te same ID, then Git treats them as having the same content (within the limits of SHA-1). It reduces the amount of work required when comparing commits on large projects.\n",
    "\n",
    "If an object ID appears in one repository, then it and everything it refers to does not need to be re-downloaded. You then only need to download missing objects.\n",
    "\n",
    "This also explains why objects are being hashed before compression - compression can have different settings resulting in different hashes. This would negate being able to decide if two objects have the same content based on the hash itself."
   ]
  },
  {
   "cell_type": "markdown",
   "metadata": {},
   "source": [
    "### Bear necessities"
   ]
  },
  {
   "cell_type": "markdown",
   "metadata": {},
   "source": [
    "Minimum viable Git repository:\n",
    "\n",
    "```\n",
    ".git\n",
    " ├── HEAD\n",
    " ├── objects\n",
    " │   ├── 88\n",
    " │   │   └── e38705fdbd3608cddbe904b67c731f3234c45b\n",
    " │   ├── ba\n",
    " │   │   └── dbad5bb37eae9c37336ccb7b0a5529fbe95acb\n",
    " │   ├── cc\n",
    " │   │   └── 628ccd10742baea8241c5924df992b5c019f71\n",
    " │   ├── ce\n",
    " │   │   └── 013625030ba8dba906f756967f9e9ca394464a\n",
    " └── refs\n",
    "     └── heads\n",
    "         └── master\n",
    "```"
   ]
  },
  {
   "cell_type": "markdown",
   "metadata": {},
   "source": [
    "If we can write some code that:\n",
    "- stores itself as a commit, a tree and some blobs\n",
    "- writes the ID of that commit to HEAD\n",
    "\n",
    "then we’re up and running."
   ]
  },
  {
   "cell_type": "markdown",
   "metadata": {},
   "source": [
    "## The `parent` field"
   ]
  },
  {
   "cell_type": "code",
   "execution_count": 6,
   "metadata": {},
   "outputs": [
    {
     "name": "stdout",
     "output_type": "stream",
     "text": [
      "[master f826d50] Second commit.\n",
      " 1 file changed, 1 insertion(+), 1 deletion(-)\n"
     ]
    }
   ],
   "source": [
    "echo \"second\" > hello.txt\n",
    "git add .\n",
    "git commit --m \"Second commit.\""
   ]
  },
  {
   "cell_type": "code",
   "execution_count": 7,
   "metadata": {},
   "outputs": [
    {
     "name": "stdout",
     "output_type": "stream",
     "text": [
      "f826d50b3070fbd98c329cfeab412f0c8fd9b60a\n"
     ]
    }
   ],
   "source": [
    "cat .git/refs/heads/master"
   ]
  },
  {
   "cell_type": "code",
   "execution_count": 8,
   "metadata": {},
   "outputs": [
    {
     "name": "stdout",
     "output_type": "stream",
     "text": [
      "tree 040c6f3e807f0d433870584bc91e06b6046b955d\n",
      "parent d9a710f4b3b5d45de8e8b73bc614effda7706bb6\n",
      "author Alicja Raszkowska <malavarena@gmail.com> 1564251489 -0700\n",
      "committer Alicja Raszkowska <malavarena@gmail.com> 1564251489 -0700\n",
      "\n",
      "Second commit.\n"
     ]
    }
   ],
   "source": [
    "git cat-file -p f826d50b3070fbd98c329cfeab412f0c8fd9b60a"
   ]
  },
  {
   "cell_type": "code",
   "execution_count": 9,
   "metadata": {},
   "outputs": [
    {
     "name": "stdout",
     "output_type": "stream",
     "text": [
      "tree 88e38705fdbd3608cddbe904b67c731f3234c45b\n",
      "author Alicja Raszkowska <malavarena@gmail.com> 1564251438 -0700\n",
      "committer Alicja Raszkowska <malavarena@gmail.com> 1564251438 -0700\n",
      "\n",
      "First commit.\n"
     ]
    }
   ],
   "source": [
    "git cat-file -p d9a710f4b3b5d45de8e8b73bc614effda7706bb6"
   ]
  },
  {
   "cell_type": "code",
   "execution_count": 10,
   "metadata": {},
   "outputs": [
    {
     "name": "stdout",
     "output_type": "stream",
     "text": [
      "100644 blob ce013625030ba8dba906f756967f9e9ca394464a\thello.txt\n",
      "100644 blob cc628ccd10742baea8241c5924df992b5c019f71\tworld.txt\n"
     ]
    }
   ],
   "source": [
    "git cat-file -p 88e38705fdbd3608cddbe904b67c731f3234c45b"
   ]
  },
  {
   "cell_type": "code",
   "execution_count": 12,
   "metadata": {},
   "outputs": [
    {
     "name": "stdout",
     "output_type": "stream",
     "text": [
      "100644 blob e019be006cf33489e2d0177a3837a2384eddebc5\thello.txt\n",
      "100644 blob cc628ccd10742baea8241c5924df992b5c019f71\tworld.txt\n"
     ]
    }
   ],
   "source": [
    "# still references the same blob for the unchanged file\n",
    "git cat-file -p 040c6f3e807f0d433870584bc91e06b6046b955d"
   ]
  },
  {
   "cell_type": "code",
   "execution_count": 13,
   "metadata": {},
   "outputs": [
    {
     "name": "stdout",
     "output_type": "stream",
     "text": [
      "second\n"
     ]
    }
   ],
   "source": [
    "git cat-file -p e019be006cf33489e2d0177a3837a2384eddebc5"
   ]
  },
  {
   "cell_type": "markdown",
   "metadata": {},
   "source": [
    "Git is storing new los when files have their content changed, rather than storing a complete copy of the project on every commit. Files with the same content will point to the same blob. Most of the contents of the tree can be reused."
   ]
  },
  {
   "cell_type": "code",
   "execution_count": null,
   "metadata": {},
   "outputs": [],
   "source": []
  }
 ],
 "metadata": {
  "kernelspec": {
   "display_name": "Bash",
   "language": "bash",
   "name": "bash"
  },
  "language_info": {
   "codemirror_mode": "shell",
   "file_extension": ".sh",
   "mimetype": "text/x-sh",
   "name": "bash"
  }
 },
 "nbformat": 4,
 "nbformat_minor": 2
}
